{
 "cells": [
  {
   "cell_type": "code",
   "execution_count": 12,
   "id": "other-invalid",
   "metadata": {},
   "outputs": [
    {
     "name": "stdout",
     "output_type": "stream",
     "text": [
      "enter the number2\n"
     ]
    }
   ],
   "source": [
    "n = int(input(\"enter the number\"))\n",
    "def unitplace(n):\n",
    "        if n == '0':\n",
    "            print(\"Zero\")\n",
    "        elif n == '1':\n",
    "            print(\"one\")\n",
    "        elif n == '2':\n",
    "            print('two')\n",
    "        elif n == '3':\n",
    "            print('three')\n",
    "        elif n == '4':\n",
    "            print('four')\n",
    "        elif n == '5':\n",
    "            print('five')\n",
    "        elif n == '6':\n",
    "            print('six')\n",
    "        elif n == '7':\n",
    "            print('seven')\n",
    "        elif n == '8':\n",
    "            print('eight')\n",
    "        elif n == '9':\n",
    "            print('nine')\n",
    "unitplace(n)\n",
    "def tenthplace(n):\n",
    "        digit = n % 10\n",
    "        i = n / 10\n",
    "        if i == '10':\n",
    "            print('ten')\n",
    "        elif i == '20':\n",
    "            print('twenty')\n",
    "        elif i == '30':\n",
    "            print('thirty')\n",
    "        elif i == '40':\n",
    "            print('fourty')\n",
    "        elif i == '50':\n",
    "            print(\"fifty\")\n",
    "        elif i == '60':\n",
    "            print('Sixty')\n",
    "        elif i == '70':\n",
    "            print('seventy')\n",
    "        elif i == '80':\n",
    "            print(\"eighty\")\n",
    "        elif i == '90':\n",
    "            print(\"ninty\")\n",
    "tenthplace(n)"
   ]
  },
  {
   "cell_type": "code",
   "execution_count": null,
   "id": "tutorial-boring",
   "metadata": {},
   "outputs": [],
   "source": [
    "n = str(input(\"enter the number\"))\n",
    "list1 = ['zero','one','two','three','four','five','six','seven','eight','nine']\n",
    "list2 = ['Ten','eleven','twelve','Thirteen', 'Fourteen', 'Fifteen', 'Sixteen', 'Seventeen', 'Eighteen', 'Nineteen']\n",
    "list3 = ['Twenty', 'Thirty', 'Forty', 'Fifty', 'Sixty', 'Seventy', 'Eighty', 'Ninety', 'Hundred']\n",
    "list4 = ['', 'Thousand', 'Million', 'Billion']\n",
    "str1 = len(n)\n",
    "if str1 == '0':\n",
    "    print(\"zero\")"
   ]
  },
  {
   "cell_type": "code",
   "execution_count": null,
   "id": "unique-chemical",
   "metadata": {},
   "outputs": [],
   "source": []
  },
  {
   "cell_type": "code",
   "execution_count": null,
   "id": "golden-regulation",
   "metadata": {},
   "outputs": [],
   "source": []
  }
 ],
 "metadata": {
  "kernelspec": {
   "display_name": "Python 3",
   "language": "python",
   "name": "python3"
  },
  "language_info": {
   "codemirror_mode": {
    "name": "ipython",
    "version": 3
   },
   "file_extension": ".py",
   "mimetype": "text/x-python",
   "name": "python",
   "nbconvert_exporter": "python",
   "pygments_lexer": "ipython3",
   "version": "3.9.1"
  }
 },
 "nbformat": 4,
 "nbformat_minor": 5
}

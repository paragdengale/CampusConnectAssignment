{
 "cells": [
  {
   "cell_type": "code",
   "execution_count": 30,
   "id": "metallic-attempt",
   "metadata": {},
   "outputs": [
    {
     "name": "stdout",
     "output_type": "stream",
     "text": [
      "enter the number for perfect number100\n",
      "6\n",
      "24\n",
      "28\n"
     ]
    }
   ],
   "source": [
    "n = int(input(\"enter the number for perfect number\"))\n",
    "for j in range(1,n):\n",
    "    sum1 = 0\n",
    "    for i in range(1,j):\n",
    "        if j % i == 0:\n",
    "            sum1 = sum1+i\n",
    "            if sum1 == j:\n",
    "                print(j)"
   ]
  },
  {
   "cell_type": "code",
   "execution_count": 31,
   "id": "filled-helena",
   "metadata": {},
   "outputs": [
    {
     "name": "stdout",
     "output_type": "stream",
     "text": [
      "enter the number''24\n",
      "1\n",
      "3\n",
      "6\n",
      "10\n",
      "16\n",
      "24\n",
      "36\n",
      "not perfect\n"
     ]
    }
   ],
   "source": [
    "n = int(input(\"enter the number''\"))\n",
    "sum1 = 0\n",
    "for i in range(1,n):\n",
    "    if n % i ==0:\n",
    "        sum1 = sum1 + i\n",
    "        print(sum1)\n",
    "if sum1 == n:\n",
    "    print(\"the given number is perfect\")\n",
    "else:\n",
    "    print(\"not perfect\")"
   ]
  },
  {
   "cell_type": "code",
   "execution_count": null,
   "id": "grateful-export",
   "metadata": {},
   "outputs": [],
   "source": []
  }
 ],
 "metadata": {
  "kernelspec": {
   "display_name": "Python 3",
   "language": "python",
   "name": "python3"
  },
  "language_info": {
   "codemirror_mode": {
    "name": "ipython",
    "version": 3
   },
   "file_extension": ".py",
   "mimetype": "text/x-python",
   "name": "python",
   "nbconvert_exporter": "python",
   "pygments_lexer": "ipython3",
   "version": "3.9.1"
  }
 },
 "nbformat": 4,
 "nbformat_minor": 5
}

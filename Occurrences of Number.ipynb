{
 "cells": [
  {
   "cell_type": "code",
   "execution_count": 9,
   "id": "improved-publisher",
   "metadata": {},
   "outputs": [
    {
     "name": "stdout",
     "output_type": "stream",
     "text": [
      "enter the numer1002\n",
      "one= 1\n",
      "zero = 1\n",
      "zero = 1\n",
      "two= 1\n"
     ]
    }
   ],
   "source": [
    "n = []\n",
    "n = input(\"enter the numer\")\n",
    "for i in n:\n",
    "    res0=0\n",
    "    res1=0\n",
    "    res2=0\n",
    "    res3=0\n",
    "    res4=0\n",
    "    res5=0\n",
    "    res6=0\n",
    "    res7=0\n",
    "    res8=0\n",
    "    res9=0\n",
    "    if i == '0':\n",
    "        res0+=1\n",
    "        print(\"zero =\",res0)\n",
    "    elif i == '1':\n",
    "        res1= res1+1\n",
    "        print(\"one=\",res1)\n",
    "    elif i == '2':\n",
    "        res2= res1+1\n",
    "        print(\"two=\",res2)\n",
    "    elif i == '3':\n",
    "        res3= res3+1\n",
    "        print(\"three=\",res3)\n",
    "    elif i == '4':\n",
    "        res4= res4+1\n",
    "        print(\"four=\",res4)\n",
    "    elif i == '5':\n",
    "        res5= res5+1\n",
    "        print(\"five=\",res5)\n",
    "    elif i == '6':\n",
    "        res6= res6+1\n",
    "        print(\"six=\",res6)\n",
    "    elif i == '7':\n",
    "        res7= res7+1\n",
    "        print(\"seven=\",res7)\n",
    "    elif i == '8':\n",
    "        res8 = res8+1\n",
    "        print(\"Eight=\",res8)\n",
    "    elif i == '9':\n",
    "        res9= res9+1\n",
    "        print(\"nine=\",res9)"
   ]
  },
  {
   "cell_type": "code",
   "execution_count": 10,
   "id": "apart-pitch",
   "metadata": {},
   "outputs": [
    {
     "name": "stdout",
     "output_type": "stream",
     "text": [
      "enter the String\n",
      " 10032\n",
      "{'1': 1, '0': 2, '3': 1, '2': 1}\n"
     ]
    }
   ],
   "source": [
    "def count(str1):\n",
    "    count1 = dict()\n",
    "    for i in str1:\n",
    "        if i in count1:\n",
    "            count1[i] += 1\n",
    "        else:\n",
    "            count1[i] = 1\n",
    "    print(count1)\n",
    "str1 = str(input(\"enter the String\\n \"))\n",
    "count(str1)"
   ]
  },
  {
   "cell_type": "code",
   "execution_count": null,
   "id": "suited-rescue",
   "metadata": {},
   "outputs": [],
   "source": []
  }
 ],
 "metadata": {
  "kernelspec": {
   "display_name": "Python 3",
   "language": "python",
   "name": "python3"
  },
  "language_info": {
   "codemirror_mode": {
    "name": "ipython",
    "version": 3
   },
   "file_extension": ".py",
   "mimetype": "text/x-python",
   "name": "python",
   "nbconvert_exporter": "python",
   "pygments_lexer": "ipython3",
   "version": "3.9.1"
  }
 },
 "nbformat": 4,
 "nbformat_minor": 5
}
